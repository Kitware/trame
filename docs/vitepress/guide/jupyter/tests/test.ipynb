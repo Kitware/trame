{
 "cells": [
  {
   "cell_type": "code",
   "execution_count": 1,
   "id": "d5724592-b1fe-4209-825d-ddfd302cfd41",
   "metadata": {},
   "outputs": [
    {
     "name": "stdout",
     "output_type": "stream",
     "text": [
      "/var/folders/p_/hxjn_q0j2kg_16rfcdlc259hs_3p6n/T/tmpo5v2c2bh\n",
      "<iframe id=\"trame_trame__template_main\" src=\"http://localhost:8888/trame-jupyter-server/servers/trame/index.html?ui=main&server=trame&wsProxy&reconnect=auto\" style=\"border: none; width: 100%; height: 600px;\" data-kernel-id=\"f2e023bf-d327-4f24-9c9d-32b050d9e457\"></iframe>\n"
     ]
    },
    {
     "data": {
      "text/html": [
       "<iframe id=\"trame_trame__template_main\" src=\"http://localhost:8888/trame-jupyter-server/servers/trame/index.html?ui=main&server=trame&wsProxy&reconnect=auto\" style=\"border: none; width: 100%; height: 600px;\" data-kernel-id=\"f2e023bf-d327-4f24-9c9d-32b050d9e457\"></iframe>"
      ]
     },
     "metadata": {},
     "output_type": "display_data"
    }
   ],
   "source": [
    "import os\n",
    "\n",
    "from trame.app.demo import Cone\n",
    "\n",
    "print(os.environ.get(\"TRAME_JUPYTER_WWW\"))\n",
    "\n",
    "app = Cone()\n",
    "await app.ui.ready\n",
    "\n",
    "print(app.ui._jupyter_content())\n",
    "\n",
    "app.ui"
   ]
  },
  {
   "cell_type": "code",
   "execution_count": null,
   "id": "3b4c1232-7388-4025-9810-8c9f8b6ebb03",
   "metadata": {},
   "outputs": [],
   "source": []
  }
 ],
 "metadata": {
  "kernelspec": {
   "display_name": "Python 3 (ipykernel)",
   "language": "python",
   "name": "python3"
  },
  "language_info": {
   "codemirror_mode": {
    "name": "ipython",
    "version": 3
   },
   "file_extension": ".py",
   "mimetype": "text/x-python",
   "name": "python",
   "nbconvert_exporter": "python",
   "pygments_lexer": "ipython3",
   "version": "3.9.19"
  }
 },
 "nbformat": 4,
 "nbformat_minor": 5
}
