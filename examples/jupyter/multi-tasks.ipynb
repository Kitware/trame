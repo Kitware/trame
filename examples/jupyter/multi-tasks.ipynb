{
 "cells": [
  {
   "cell_type": "code",
   "execution_count": 1,
   "id": "e391ea45-c58a-4f39-80d8-18415d3a67db",
   "metadata": {
    "tags": []
   },
   "outputs": [],
   "source": [
    "import os\n",
    "os.environ[\"TRAME_DISABLE_V3_WARNING\"] = \"1\""
   ]
  },
  {
   "cell_type": "code",
   "execution_count": 2,
   "id": "e35ebf43-5752-47ba-96d5-74bf14ec2288",
   "metadata": {
    "tags": []
   },
   "outputs": [],
   "source": [
    "from trame.app import get_server\n",
    "from trame.ui.html import DivLayout\n",
    "from trame.widgets import html\n",
    "\n",
    "class Slider:\n",
    "    def __init__(self, server_name=None):\n",
    "        self.server = get_server(server_name)\n",
    "        self.ui = DivLayout(self.server, height=\"20px\")\n",
    "        with self.ui:\n",
    "            with html.Div(style=\"display: flex;\"):\n",
    "                html.Input(type=\"range\", v_model=(\"resolution\", 0), min=0, max=10)\n",
    "                html.Div(\"{{ resolution }}\")\n",
    "            "
   ]
  },
  {
   "cell_type": "code",
   "execution_count": 3,
   "id": "1042cbbc-816b-4e0b-bb8a-f01fba2659fd",
   "metadata": {
    "tags": []
   },
   "outputs": [
    {
     "name": "stdout",
     "output_type": "stream",
     "text": [
      "Create WslinkHandler instance\n",
      "Create WslinkHandler instance\n",
      "Create WslinkHandler instance\n"
     ]
    },
    {
     "data": {
      "text/plain": [
       "True"
      ]
     },
     "execution_count": 3,
     "metadata": {},
     "output_type": "execute_result"
    }
   ],
   "source": [
    "a = Slider(\"a\")\n",
    "b = Slider(\"b\")\n",
    "c = Slider(\"c\")\n",
    "\n",
    "await a.ui.ready\n",
    "await b.ui.ready\n",
    "await c.ui.ready"
   ]
  },
  {
   "cell_type": "code",
   "execution_count": 4,
   "id": "12961773-2d56-42e4-967b-561755bf0580",
   "metadata": {
    "tags": []
   },
   "outputs": [
    {
     "data": {
      "text/html": [
       "<iframe id=\"a_trame__template_main\" src=\"http://localhost:65422/index.html?ui=main&reconnect=auto\" style=\"border: none; width: 100%; height: 20px;\"></iframe>"
      ]
     },
     "metadata": {},
     "output_type": "display_data"
    }
   ],
   "source": [
    "a.ui"
   ]
  },
  {
   "cell_type": "code",
   "execution_count": 5,
   "id": "f98d8132-5169-4276-8ba7-e10b3242d0d4",
   "metadata": {
    "tags": []
   },
   "outputs": [
    {
     "data": {
      "text/html": [
       "<iframe id=\"b_trame__template_main\" src=\"http://localhost:65424/index.html?ui=main&reconnect=auto\" style=\"border: none; width: 100%; height: 20px;\"></iframe>"
      ]
     },
     "metadata": {},
     "output_type": "display_data"
    }
   ],
   "source": [
    "b.ui"
   ]
  },
  {
   "cell_type": "code",
   "execution_count": 6,
   "id": "388c11f7-af78-4ba2-85b9-5adf927dbf25",
   "metadata": {
    "tags": []
   },
   "outputs": [
    {
     "data": {
      "text/html": [
       "<iframe id=\"c_trame__template_main\" src=\"http://localhost:65426/index.html?ui=main&reconnect=auto\" style=\"border: none; width: 100%; height: 20px;\"></iframe>"
      ]
     },
     "metadata": {},
     "output_type": "display_data"
    }
   ],
   "source": [
    "c.ui"
   ]
  },
  {
   "cell_type": "code",
   "execution_count": 7,
   "id": "2ed92111-bdf5-48f8-b7bb-c8d97dabfd29",
   "metadata": {
    "tags": []
   },
   "outputs": [
    {
     "data": {
      "text/html": [
       "<iframe id=\"a_trame__template_main\" src=\"http://localhost:65422/index.html?ui=main&reconnect=auto\" style=\"border: none; width: 100%; height: 20px;\"></iframe>"
      ]
     },
     "metadata": {},
     "output_type": "display_data"
    }
   ],
   "source": [
    "a.ui"
   ]
  },
  {
   "cell_type": "code",
   "execution_count": 8,
   "id": "87fa800f-d432-4ec9-b968-5237d3e25288",
   "metadata": {
    "tags": []
   },
   "outputs": [
    {
     "data": {
      "text/html": [
       "<iframe id=\"b_trame__template_main\" src=\"http://localhost:65424/index.html?ui=main&reconnect=auto\" style=\"border: none; width: 100%; height: 20px;\"></iframe>"
      ]
     },
     "metadata": {},
     "output_type": "display_data"
    }
   ],
   "source": [
    "b.ui"
   ]
  },
  {
   "cell_type": "code",
   "execution_count": 9,
   "id": "3aae2a72-2c74-4cf2-9a96-e2fa74e7c419",
   "metadata": {
    "tags": []
   },
   "outputs": [
    {
     "data": {
      "text/html": [
       "<iframe id=\"c_trame__template_main\" src=\"http://localhost:65426/index.html?ui=main&reconnect=auto\" style=\"border: none; width: 100%; height: 20px;\"></iframe>"
      ]
     },
     "metadata": {},
     "output_type": "display_data"
    }
   ],
   "source": [
    "c.ui"
   ]
  },
  {
   "cell_type": "code",
   "execution_count": null,
   "id": "4e3ad52c-ce45-447d-a115-0e659f3673e4",
   "metadata": {},
   "outputs": [],
   "source": []
  },
  {
   "cell_type": "code",
   "execution_count": null,
   "id": "2b3c2a0a-def8-40a1-a157-d3ef6a3015e3",
   "metadata": {},
   "outputs": [],
   "source": []
  }
 ],
 "metadata": {
  "kernelspec": {
   "display_name": "Python 3 (ipykernel)",
   "language": "python",
   "name": "python3"
  },
  "language_info": {
   "codemirror_mode": {
    "name": "ipython",
    "version": 3
   },
   "file_extension": ".py",
   "mimetype": "text/x-python",
   "name": "python",
   "nbconvert_exporter": "python",
   "pygments_lexer": "ipython3",
   "version": "3.9.17"
  }
 },
 "nbformat": 4,
 "nbformat_minor": 5
}
