{
 "cells": [
  {
   "cell_type": "code",
   "execution_count": null,
   "id": "b0350ca0-e7b6-4068-b026-fe00d7522024",
   "metadata": {},
   "outputs": [],
   "source": [
    "points = [\n",
    "   [-8.64208925, -7.34294559, -9.13803458],\n",
    "   [-8.25601497, -2.54814702, 0.93860914],\n",
    "   [-0.30179377, -3.21555997, -4.19999019],\n",
    "   [3.24099167, 2.05814768, 3.39041509],\n",
    "   [4.39935227, 4.18804542, 8.96391132],\n",
    "]"
   ]
  },
  {
   "cell_type": "code",
   "execution_count": null,
   "id": "1e268da7-46c0-482f-ad70-2120336ab9ef",
   "metadata": {},
   "outputs": [],
   "source": [
    "import pyvista as pv\n",
    "\n",
    "mesh = pv.Wavelet()\n",
    "\n",
    "p = pv.Plotter()\n",
    "p.add_mesh(mesh.outline(), color='black')\n",
    "p.add_mesh_slice_spline(mesh, initial_points=points, n_handles=5)\n",
    "p.show()"
   ]
  },
  {
   "cell_type": "code",
   "execution_count": null,
   "id": "39cb56c0-8932-4077-946a-6874b71d75d2",
   "metadata": {},
   "outputs": [],
   "source": []
  },
  {
   "cell_type": "code",
   "execution_count": null,
   "id": "97579cdf-2d90-49b1-b68c-d9bb48db0722",
   "metadata": {},
   "outputs": [],
   "source": []
  }
 ],
 "metadata": {
  "kernelspec": {
   "display_name": "Python 3 (ipykernel)",
   "language": "python",
   "name": "python3"
  },
  "language_info": {
   "codemirror_mode": {
    "name": "ipython",
    "version": 3
   },
   "file_extension": ".py",
   "mimetype": "text/x-python",
   "name": "python",
   "nbconvert_exporter": "python",
   "pygments_lexer": "ipython3",
   "version": "3.10.14"
  }
 },
 "nbformat": 4,
 "nbformat_minor": 5
}
