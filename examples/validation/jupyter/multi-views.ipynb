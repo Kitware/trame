{
 "cells": [
  {
   "cell_type": "markdown",
   "id": "e162e19d-531d-450c-9396-15099b33b69b",
   "metadata": {},
   "source": [
    "## Main VTK code"
   ]
  },
  {
   "cell_type": "code",
   "execution_count": 1,
   "id": "756f14d7-8721-441c-a4ad-ea7fdff257ab",
   "metadata": {},
   "outputs": [],
   "source": [
    "from trame.app import get_server, jupyter\n",
    "from trame.widgets import vtk, trame, vuetify, html\n",
    "from trame.ui.vuetify import SinglePageLayout, VAppLayout\n",
    "\n",
    "from vtkmodules.vtkFiltersSources import vtkConeSource\n",
    "from vtkmodules.vtkRenderingCore import (\n",
    "    vtkRenderer,\n",
    "    vtkRenderWindow,\n",
    "    vtkRenderWindowInteractor,\n",
    "    vtkPolyDataMapper,\n",
    "    vtkActor,\n",
    ")\n",
    "import vtkmodules.vtkRenderingOpenGL2  # noqa\n",
    "from vtkmodules.vtkInteractionStyle import vtkInteractorStyleSwitch  # noqa\n",
    "\n",
    "# VTK -----------------------------------------------------\n",
    "\n",
    "DEFAULT_RESOLUTION = 6\n",
    "\n",
    "renderer = vtkRenderer()\n",
    "renderWindow = vtkRenderWindow()\n",
    "renderWindow.AddRenderer(renderer)\n",
    "\n",
    "renderWindowInteractor = vtkRenderWindowInteractor()\n",
    "renderWindowInteractor.SetRenderWindow(renderWindow)\n",
    "renderWindowInteractor.GetInteractorStyle().SetCurrentStyleToTrackballCamera()\n",
    "\n",
    "cone_source = vtkConeSource()\n",
    "mapper = vtkPolyDataMapper()\n",
    "actor = vtkActor()\n",
    "mapper.SetInputConnection(cone_source.GetOutputPort())\n",
    "actor.SetMapper(mapper)\n",
    "renderer.AddActor(actor)\n",
    "renderer.ResetCamera()\n",
    "renderWindow.Render()\n",
    "\n",
    "# Trame ---------------------------------------------------\n",
    "\n",
    "server = get_server()\n",
    "state, ctrl = server.state, server.controller\n",
    "\n",
    "\n",
    "def reset_resolution():\n",
    "    state.resolution = 6\n",
    "\n",
    "\n",
    "@state.change(\"resolution\")\n",
    "def update_resolution(resolution, **kwargs):\n",
    "    cone_source.SetResolution(int(resolution))\n",
    "    ctrl.view_update()\n",
    "    \n",
    "\n",
    "\n",
    "ctrl.on_server_ready.add(lambda **_: print(\"Ready\"))\n",
    "ctrl.on_server_exited.add(lambda **_: print(\"Exited\"))\n",
    "ctrl.on_server_ready.add(ctrl.view_update)\n"
   ]
  },
  {
   "cell_type": "markdown",
   "id": "dc8d1981-f2d3-4a8a-afe7-ecbcedc08df7",
   "metadata": {},
   "source": [
    "## Main View"
   ]
  },
  {
   "cell_type": "code",
   "execution_count": 2,
   "id": "93733c03-9075-4d2f-975f-499234a3e50c",
   "metadata": {},
   "outputs": [],
   "source": [
    "main_layout = SinglePageLayout(server)\n",
    "\n",
    "with state:\n",
    "    with main_layout:\n",
    "        # Validate client life cycle\n",
    "        trame.LifeCycleMonitor(events=(\"['created']\",))\n",
    "\n",
    "        main_layout.icon.click = ctrl.reset_camera\n",
    "        main_layout.title.set_text(\"Cone\")\n",
    "        main_layout.toolbar.dense = True\n",
    "\n",
    "        # Toolbar\n",
    "        with main_layout.toolbar as toolbar:\n",
    "            vuetify.VSpacer()\n",
    "            vuetify.VSlider(\n",
    "                # label=\"Hello2\",\n",
    "                hide_details=True,\n",
    "                v_model=(\"resolution\", 6),\n",
    "                max=60,\n",
    "                min=3,\n",
    "                step=1,\n",
    "                style=\"max-width: 300px;\",\n",
    "            )\n",
    "            vuetify.VSwitch(\n",
    "                hide_details=True,\n",
    "                v_model=(\"$vuetify.theme.dark\",),\n",
    "            )\n",
    "            with vuetify.VBtn(icon=True, click=reset_resolution):\n",
    "                vuetify.VIcon(\"mdi-undo\")\n",
    "\n",
    "        with main_layout.content:\n",
    "            with vuetify.VContainer(fluid=True, classes=\"pa-0 fill-height\"):\n",
    "                view = vtk.VtkRemoteView(renderWindow, ref=\"remoteView\")\n",
    "                ctrl.view_update.add(view.update)\n",
    "                ctrl.reset_camera.add(view.reset_camera)"
   ]
  },
  {
   "cell_type": "markdown",
   "id": "5673756e-44c4-4e06-9550-fd918114395e",
   "metadata": {},
   "source": [
    "## Local View"
   ]
  },
  {
   "cell_type": "code",
   "execution_count": 3,
   "id": "d587e120-55d7-404c-999d-ea63d4379870",
   "metadata": {},
   "outputs": [],
   "source": [
    "local_layout = VAppLayout(server, \"local\")\n",
    "\n",
    "with local_layout:\n",
    "    with vuetify.VContainer(fluid=True, classes=\"pa-0 fill-height\"):\n",
    "        view = vtk.VtkLocalView(renderWindow, ref=\"localView\")\n",
    "        ctrl.view_update.add(view.update)\n",
    "        ctrl.reset_camera.add(view.reset_camera)"
   ]
  },
  {
   "cell_type": "markdown",
   "id": "61f7740d-436e-4b02-a204-114bca36e429",
   "metadata": {},
   "source": [
    "## Client View"
   ]
  },
  {
   "cell_type": "code",
   "execution_count": 4,
   "id": "5ca116e1-0e50-45d4-b5d5-ebf70e9e386b",
   "metadata": {},
   "outputs": [],
   "source": [
    "client_layout = VAppLayout(server, \"client\")\n",
    "\n",
    "with client_layout:\n",
    "    with vuetify.VContainer(fluid=True, classes=\"pa-0 fill-height\"):\n",
    "        with vtk.VtkView(ref=\"clientView\") as view:\n",
    "            ctrl.reset_camera.add(view.reset_camera)\n",
    "            with vtk.VtkGeometryRepresentation():\n",
    "                vtk.VtkAlgorithm(\n",
    "                    vtkClass=\"vtkConeSource\", state=(\"{ resolution }\",)\n",
    "                )"
   ]
  },
  {
   "cell_type": "markdown",
   "id": "95837c28-28b6-473e-b1ee-ea58f0a173d6",
   "metadata": {},
   "source": [
    "## Output"
   ]
  },
  {
   "cell_type": "code",
   "execution_count": 5,
   "id": "7e95a9bb-82db-4894-a6af-05dfc049432f",
   "metadata": {},
   "outputs": [
    {
     "name": "stdout",
     "output_type": "stream",
     "text": [
      "Ready\n"
     ]
    },
    {
     "data": {
      "text/html": [
       "\n",
       "        <iframe\n",
       "            width=\"100%\"\n",
       "            height=\"200\"\n",
       "            src=\"http://localhost:58611/\"\n",
       "            frameborder=\"0\"\n",
       "            allowfullscreen\n",
       "            \n",
       "        ></iframe>\n",
       "        "
      ],
      "text/plain": [
       "<IPython.lib.display.IFrame at 0x1513bbe80>"
      ]
     },
     "metadata": {},
     "output_type": "display_data"
    },
    {
     "data": {
      "text/html": [
       "\n",
       "        <iframe\n",
       "            width=\"100%\"\n",
       "            height=\"200\"\n",
       "            src=\"http://localhost:58611/?ui=client\"\n",
       "            frameborder=\"0\"\n",
       "            allowfullscreen\n",
       "            \n",
       "        ></iframe>\n",
       "        "
      ],
      "text/plain": [
       "<IPython.lib.display.IFrame at 0x1513bbe80>"
      ]
     },
     "metadata": {},
     "output_type": "display_data"
    },
    {
     "data": {
      "text/html": [
       "\n",
       "        <iframe\n",
       "            width=\"100%\"\n",
       "            height=\"200\"\n",
       "            src=\"http://localhost:58611/?ui=local\"\n",
       "            frameborder=\"0\"\n",
       "            allowfullscreen\n",
       "            \n",
       "        ></iframe>\n",
       "        "
      ],
      "text/plain": [
       "<IPython.lib.display.IFrame at 0x1513bbe80>"
      ]
     },
     "metadata": {},
     "output_type": "display_data"
    }
   ],
   "source": [
    "jupyter.show(server, \"local\", height=200)\n",
    "jupyter.show(server, \"client\", height=200)\n",
    "jupyter.show(server, height=200)"
   ]
  },
  {
   "cell_type": "code",
   "execution_count": 6,
   "id": "cde455ad-223e-4fd0-ba8a-c28445a6d1ee",
   "metadata": {},
   "outputs": [
    {
     "data": {
      "text/plain": [
       "True"
      ]
     },
     "execution_count": 6,
     "metadata": {},
     "output_type": "execute_result"
    }
   ],
   "source": [
    "server.running"
   ]
  },
  {
   "cell_type": "code",
   "execution_count": 7,
   "id": "fc3adaa2-70e1-46df-b52e-ca6b2daaeed9",
   "metadata": {},
   "outputs": [
    {
     "name": "stdout",
     "output_type": "stream",
     "text": [
      "Exited\n"
     ]
    }
   ],
   "source": [
    "await server.stop()"
   ]
  },
  {
   "cell_type": "code",
   "execution_count": 8,
   "id": "488ce28d-011d-4c4b-954f-7965f41fcecb",
   "metadata": {},
   "outputs": [
    {
     "data": {
      "text/plain": [
       "False"
      ]
     },
     "execution_count": 8,
     "metadata": {},
     "output_type": "execute_result"
    }
   ],
   "source": [
    "server.running"
   ]
  },
  {
   "cell_type": "code",
   "execution_count": null,
   "id": "b3dd5d5d-418f-4cfc-8f11-121d402e05c6",
   "metadata": {},
   "outputs": [],
   "source": []
  }
 ],
 "metadata": {
  "kernelspec": {
   "display_name": "Python 3 (ipykernel)",
   "language": "python",
   "name": "python3"
  },
  "language_info": {
   "codemirror_mode": {
    "name": "ipython",
    "version": 3
   },
   "file_extension": ".py",
   "mimetype": "text/x-python",
   "name": "python",
   "nbconvert_exporter": "python",
   "pygments_lexer": "ipython3",
   "version": "3.9.12"
  }
 },
 "nbformat": 4,
 "nbformat_minor": 5
}
