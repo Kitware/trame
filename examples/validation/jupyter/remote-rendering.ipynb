{
 "cells": [
  {
   "cell_type": "markdown",
   "id": "5d0893b5-7902-407a-b843-f760672d22aa",
   "metadata": {},
   "source": [
    "## Trame imports"
   ]
  },
  {
   "cell_type": "code",
   "execution_count": 1,
   "id": "4f41d825-b408-4fe8-bd4e-d6b3162765f3",
   "metadata": {},
   "outputs": [],
   "source": [
    "from trame.app import get_server, jupyter\n",
    "from trame.widgets import vtk, trame, vuetify, html\n",
    "from trame.ui.vuetify import SinglePageLayout"
   ]
  },
  {
   "cell_type": "markdown",
   "id": "71e4d925-bff8-4897-bab2-fb3a86a2fd91",
   "metadata": {},
   "source": [
    "## VTK code"
   ]
  },
  {
   "cell_type": "code",
   "execution_count": 2,
   "id": "85e7c897-b606-48ad-bdf2-b3258c4cb923",
   "metadata": {},
   "outputs": [],
   "source": [
    "from vtkmodules.vtkFiltersSources import vtkConeSource\n",
    "from vtkmodules.vtkRenderingCore import (\n",
    "    vtkRenderer,\n",
    "    vtkRenderWindow,\n",
    "    vtkRenderWindowInteractor,\n",
    "    vtkPolyDataMapper,\n",
    "    vtkActor,\n",
    ")\n",
    "import vtkmodules.vtkRenderingOpenGL2  # noqa\n",
    "from vtkmodules.vtkInteractionStyle import vtkInteractorStyleSwitch  # noqa\n",
    "\n",
    "DEFAULT_RESOLUTION = 6\n",
    "\n",
    "renderer = vtkRenderer()\n",
    "renderWindow = vtkRenderWindow()\n",
    "renderWindow.AddRenderer(renderer)\n",
    "\n",
    "renderWindowInteractor = vtkRenderWindowInteractor()\n",
    "renderWindowInteractor.SetRenderWindow(renderWindow)\n",
    "renderWindowInteractor.GetInteractorStyle().SetCurrentStyleToTrackballCamera()\n",
    "\n",
    "cone_source = vtkConeSource()\n",
    "mapper = vtkPolyDataMapper()\n",
    "actor = vtkActor()\n",
    "mapper.SetInputConnection(cone_source.GetOutputPort())\n",
    "actor.SetMapper(mapper)\n",
    "renderer.AddActor(actor)\n",
    "renderer.ResetCamera()\n",
    "renderWindow.Render()"
   ]
  },
  {
   "cell_type": "markdown",
   "id": "8dd8e950-28b8-4ef2-9f0b-4ed95eba8b8f",
   "metadata": {},
   "source": [
    "## Trame setup"
   ]
  },
  {
   "cell_type": "code",
   "execution_count": 3,
   "id": "300f886c-64f6-4f85-ad78-1f47dfca1a69",
   "metadata": {},
   "outputs": [],
   "source": [
    "server = get_server(\"jupyter-1\")\n",
    "state, ctrl = server.state, server.controller\n",
    "\n",
    "\n",
    "def reset_resolution():\n",
    "    state.resolution = 6\n",
    "\n",
    "\n",
    "@state.change(\"resolution\")\n",
    "def update_resolution(resolution, **kwargs):\n",
    "    cone_source.SetResolution(int(resolution))\n",
    "    ctrl.view_update()\n"
   ]
  },
  {
   "cell_type": "markdown",
   "id": "de5438ab-5cad-488b-aa8d-989b673e3f12",
   "metadata": {},
   "source": [
    "## UI setup"
   ]
  },
  {
   "cell_type": "code",
   "execution_count": 4,
   "id": "b08455c9-1736-4e7f-8178-47a6e037f092",
   "metadata": {},
   "outputs": [],
   "source": [
    "layout = SinglePageLayout(server)\n",
    "\n",
    "with layout:\n",
    "    # Validate client life cycle\n",
    "    trame.LifeCycleMonitor(events=(\"['created']\",))\n",
    "\n",
    "    layout.icon.click = ctrl.reset_camera\n",
    "    layout.title.set_text(\"Cone\")\n",
    "    layout.toolbar.dense = True\n",
    "\n",
    "    # Toolbar\n",
    "    with layout.toolbar as toolbar:\n",
    "        vuetify.VSpacer()\n",
    "        vuetify.VSlider(\n",
    "            hide_details=True,\n",
    "            v_model=(\"resolution\", 6),\n",
    "            max=60,\n",
    "            min=3,\n",
    "            step=1,\n",
    "            style=\"max-width: 300px;\",\n",
    "        )\n",
    "        vuetify.VSwitch(\n",
    "            hide_details=True,\n",
    "            v_model=(\"$vuetify.theme.dark\",),\n",
    "        )\n",
    "        with vuetify.VBtn(icon=True, click=reset_resolution):\n",
    "            vuetify.VIcon(\"mdi-undo\")\n",
    "\n",
    "    with layout.content:\n",
    "        with vuetify.VContainer(fluid=True, classes=\"pa-0 fill-height\"):\n",
    "            view = vtk.VtkRemoteView(renderWindow)\n",
    "            ctrl.view_update = view.update\n",
    "            ctrl.reset_camera = view.reset_camera\n"
   ]
  },
  {
   "cell_type": "markdown",
   "id": "e3384da2-2a8e-44fb-bea2-23ca5cfd24f8",
   "metadata": {},
   "source": [
    "## Run inside jupyter"
   ]
  },
  {
   "cell_type": "code",
   "execution_count": 5,
   "id": "dfedc181-4c1b-4de2-8b0a-d1f60f3f7f31",
   "metadata": {},
   "outputs": [
    {
     "data": {
      "text/html": [
       "\n",
       "        <iframe\n",
       "            width=\"100%\"\n",
       "            height=\"600\"\n",
       "            src=\"http://localhost:58340/\"\n",
       "            frameborder=\"0\"\n",
       "            allowfullscreen\n",
       "            \n",
       "        ></iframe>\n",
       "        "
      ],
      "text/plain": [
       "<IPython.lib.display.IFrame at 0x10426de80>"
      ]
     },
     "metadata": {},
     "output_type": "display_data"
    }
   ],
   "source": [
    "jupyter.show(server)"
   ]
  },
  {
   "cell_type": "markdown",
   "id": "22054fb1-7dd9-4470-bc0d-39ec8e08eedb",
   "metadata": {},
   "source": [
    "## Another app"
   ]
  },
  {
   "cell_type": "code",
   "execution_count": 6,
   "id": "f0dce3d4-eed7-46ba-bc8f-aa00635583d2",
   "metadata": {},
   "outputs": [],
   "source": [
    "# -----------------------------------------------------------------------------\n",
    "# Trame setup\n",
    "# -----------------------------------------------------------------------------\n",
    "\n",
    "s2 = get_server(\"jupyter-2\")\n",
    "state2, ctrl2 = s2.state, s2.controller\n",
    "\n",
    "\n",
    "def reset_resolution_2():\n",
    "    state2.resolution = 6\n",
    "\n",
    "ctrl2.reset_resolution = reset_resolution_2\n",
    "\n",
    "# -----------------------------------------------------------------------------\n",
    "# UI setup\n",
    "# -----------------------------------------------------------------------------\n",
    "\n",
    "layout2 = SinglePageLayout(s2)\n",
    "\n",
    "with layout2:\n",
    "    # Validate client life cycle\n",
    "    trame.LifeCycleMonitor(events=(\"['created']\",))\n",
    "\n",
    "    layout2.icon.click = ctrl2.reset_camera\n",
    "    layout2.title.set_text(\"Cone\")\n",
    "    layout2.toolbar.dense = True\n",
    "\n",
    "    # Toolbar\n",
    "    with layout2.toolbar as toolbar:\n",
    "        vuetify.VSpacer()\n",
    "        vuetify.VSlider(\n",
    "            hide_details=True,\n",
    "            v_model=(\"resolution\", 6),\n",
    "            max=60,\n",
    "            min=3,\n",
    "            step=1,\n",
    "            style=\"max-width: 300px;\",\n",
    "        )\n",
    "        vuetify.VSwitch(\n",
    "            hide_details=True,\n",
    "            v_model=(\"$vuetify.theme.dark\",),\n",
    "        )\n",
    "        with vuetify.VBtn(icon=True, click=ctrl2.reset_resolution):\n",
    "            vuetify.VIcon(\"mdi-undo\")\n",
    "\n",
    "    with layout2.content:\n",
    "        with vuetify.VContainer(fluid=True, classes=\"pa-0 fill-height\"):\n",
    "            with vtk.VtkView() as view:\n",
    "                ctrl2.reset_camera = view.reset_camera\n",
    "                with vtk.VtkGeometryRepresentation():\n",
    "                    vtk.VtkAlgorithm(\n",
    "                        vtkClass=\"vtkConeSource\", state=(\"{ resolution }\",)\n",
    "                    )\n"
   ]
  },
  {
   "cell_type": "code",
   "execution_count": 7,
   "id": "2d6f2950-d4d7-41eb-abc1-1d1f8d3851b2",
   "metadata": {},
   "outputs": [
    {
     "data": {
      "text/html": [
       "\n",
       "        <iframe\n",
       "            width=\"100%\"\n",
       "            height=\"600\"\n",
       "            src=\"http://localhost:58346/\"\n",
       "            frameborder=\"0\"\n",
       "            allowfullscreen\n",
       "            \n",
       "        ></iframe>\n",
       "        "
      ],
      "text/plain": [
       "<IPython.lib.display.IFrame at 0x15de11b80>"
      ]
     },
     "metadata": {},
     "output_type": "display_data"
    }
   ],
   "source": [
    "jupyter.show(s2)"
   ]
  },
  {
   "cell_type": "code",
   "execution_count": 8,
   "id": "80090a54-b28f-4158-8b07-3776084e3e17",
   "metadata": {},
   "outputs": [
    {
     "data": {
      "text/html": [
       "\n",
       "        <iframe\n",
       "            width=\"100%\"\n",
       "            height=\"600\"\n",
       "            src=\"http://localhost:58340/\"\n",
       "            frameborder=\"0\"\n",
       "            allowfullscreen\n",
       "            \n",
       "        ></iframe>\n",
       "        "
      ],
      "text/plain": [
       "<IPython.lib.display.IFrame at 0x15d7ba670>"
      ]
     },
     "metadata": {},
     "output_type": "display_data"
    },
    {
     "data": {
      "text/html": [
       "\n",
       "        <iframe\n",
       "            width=\"100%\"\n",
       "            height=\"600\"\n",
       "            src=\"http://localhost:58346/\"\n",
       "            frameborder=\"0\"\n",
       "            allowfullscreen\n",
       "            \n",
       "        ></iframe>\n",
       "        "
      ],
      "text/plain": [
       "<IPython.lib.display.IFrame at 0x15d7ba670>"
      ]
     },
     "metadata": {},
     "output_type": "display_data"
    }
   ],
   "source": [
    "jupyter.show(server)\n",
    "jupyter.show(s2)"
   ]
  },
  {
   "cell_type": "code",
   "execution_count": 9,
   "id": "fbca1642-d941-4e4d-9dfb-7993c613f409",
   "metadata": {},
   "outputs": [
    {
     "data": {
      "text/html": [
       "\n",
       "        <iframe\n",
       "            width=\"100%\"\n",
       "            height=\"600\"\n",
       "            src=\"http://localhost:58340/\"\n",
       "            frameborder=\"0\"\n",
       "            allowfullscreen\n",
       "            \n",
       "        ></iframe>\n",
       "        "
      ],
      "text/plain": [
       "<IPython.lib.display.IFrame at 0x15de55160>"
      ]
     },
     "metadata": {},
     "output_type": "display_data"
    },
    {
     "data": {
      "text/html": [
       "\n",
       "        <iframe\n",
       "            width=\"100%\"\n",
       "            height=\"600\"\n",
       "            src=\"http://localhost:58340/\"\n",
       "            frameborder=\"0\"\n",
       "            allowfullscreen\n",
       "            \n",
       "        ></iframe>\n",
       "        "
      ],
      "text/plain": [
       "<IPython.lib.display.IFrame at 0x15d7ba610>"
      ]
     },
     "metadata": {},
     "output_type": "display_data"
    }
   ],
   "source": [
    "jupyter.show(server)\n",
    "jupyter.show(server)"
   ]
  },
  {
   "cell_type": "code",
   "execution_count": null,
   "id": "f8f2db6a-6405-45a4-827f-453bcee74e65",
   "metadata": {},
   "outputs": [],
   "source": []
  }
 ],
 "metadata": {
  "kernelspec": {
   "display_name": "Python 3 (ipykernel)",
   "language": "python",
   "name": "python3"
  },
  "language_info": {
   "codemirror_mode": {
    "name": "ipython",
    "version": 3
   },
   "file_extension": ".py",
   "mimetype": "text/x-python",
   "name": "python",
   "nbconvert_exporter": "python",
   "pygments_lexer": "ipython3",
   "version": "3.9.12"
  }
 },
 "nbformat": 4,
 "nbformat_minor": 5
}
