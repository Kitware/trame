{
 "cells": [
  {
   "cell_type": "code",
   "execution_count": 1,
   "id": "b3f4aeae-82b4-4d60-a1ea-c1f363e1412f",
   "metadata": {},
   "outputs": [],
   "source": [
    "from trame.app import get_server, jupyter\n",
    "from trame.widgets import vtk, trame, vuetify, html\n",
    "from trame.ui.vuetify import SinglePageLayout\n",
    "\n",
    "from vtkmodules.vtkFiltersSources import vtkConeSource\n",
    "from vtkmodules.vtkRenderingCore import (\n",
    "    vtkRenderer,\n",
    "    vtkRenderWindow,\n",
    "    vtkRenderWindowInteractor,\n",
    "    vtkPolyDataMapper,\n",
    "    vtkActor,\n",
    ")\n",
    "import vtkmodules.vtkRenderingOpenGL2  # noqa\n",
    "from vtkmodules.vtkInteractionStyle import vtkInteractorStyleSwitch  # noqa\n",
    "\n",
    "DEFAULT_RESOLUTION = 6\n",
    "\n",
    "renderer = vtkRenderer()\n",
    "renderWindow = vtkRenderWindow()\n",
    "renderWindow.AddRenderer(renderer)\n",
    "\n",
    "renderWindowInteractor = vtkRenderWindowInteractor()\n",
    "renderWindowInteractor.SetRenderWindow(renderWindow)\n",
    "renderWindowInteractor.GetInteractorStyle().SetCurrentStyleToTrackballCamera()\n",
    "\n",
    "cone_source = vtkConeSource()\n",
    "mapper = vtkPolyDataMapper()\n",
    "actor = vtkActor()\n",
    "mapper.SetInputConnection(cone_source.GetOutputPort())\n",
    "actor.SetMapper(mapper)\n",
    "renderer.AddActor(actor)\n",
    "renderer.ResetCamera()\n",
    "renderWindow.Render()\n",
    "\n",
    "server = get_server(\"jupyter-1\")\n",
    "state, ctrl = server.state, server.controller\n",
    "\n",
    "\n",
    "def reset_resolution():\n",
    "    state.resolution = 6\n",
    "\n",
    "\n",
    "@state.change(\"resolution\")\n",
    "def update_resolution(resolution, **kwargs):\n",
    "    cone_source.SetResolution(int(resolution))\n",
    "    ctrl.view_update()\n",
    "    \n",
    "layout = SinglePageLayout(server)\n",
    "\n",
    "with layout:  \n",
    "    # Validate client life cycle\n",
    "    trame.LifeCycleMonitor(events=(\"['created']\",))\n",
    "\n",
    "    layout.icon.click = ctrl.reset_camera\n",
    "    layout.title.set_text(\"Cone\")\n",
    "    layout.toolbar.dense = True\n",
    "\n",
    "    # Toolbar\n",
    "    with layout.toolbar as toolbar:\n",
    "        vuetify.VSpacer()\n",
    "        vuetify.VSlider(\n",
    "            hide_details=True,\n",
    "            v_model=(\"resolution\", 6),\n",
    "            max=60,\n",
    "            min=3,\n",
    "            step=1,\n",
    "            style=\"max-width: 300px;\",\n",
    "        )\n",
    "        vuetify.VSwitch(\n",
    "            hide_details=True,\n",
    "            v_model=(\"$vuetify.theme.dark\",),\n",
    "        )\n",
    "        with vuetify.VBtn(icon=True, click=reset_resolution):\n",
    "            vuetify.VIcon(\"mdi-undo\")\n",
    "\n",
    "    with layout.content:\n",
    "        with vuetify.VContainer(fluid=True, classes=\"pa-0 fill-height\"):\n",
    "            view = vtk.VtkRemoteView(renderWindow)\n",
    "            ctrl.view_update = view.update\n",
    "            ctrl.reset_camera = view.reset_camera\n",
    "            \n",
    "ctrl.on_server_exited.add(lambda **_: print(\"exited\"))"
   ]
  },
  {
   "cell_type": "code",
   "execution_count": 6,
   "id": "6e56f189-20cc-423d-82c0-4b58e17d327e",
   "metadata": {},
   "outputs": [
    {
     "data": {
      "text/html": [
       "\n",
       "        <iframe\n",
       "            width=\"100%\"\n",
       "            height=\"600\"\n",
       "            src=\"http://localhost:58404/\"\n",
       "            frameborder=\"0\"\n",
       "            allowfullscreen\n",
       "            \n",
       "        ></iframe>\n",
       "        "
      ],
      "text/plain": [
       "<IPython.lib.display.IFrame at 0x13775f430>"
      ]
     },
     "metadata": {},
     "output_type": "display_data"
    }
   ],
   "source": [
    "jupyter.show(server)"
   ]
  },
  {
   "cell_type": "code",
   "execution_count": 4,
   "id": "89d5dc0c-ef1f-442c-8e28-0fc8965d255e",
   "metadata": {},
   "outputs": [
    {
     "name": "stdout",
     "output_type": "stream",
     "text": [
      "exited\n"
     ]
    }
   ],
   "source": [
    "await server.stop()"
   ]
  },
  {
   "cell_type": "code",
   "execution_count": 5,
   "id": "dbf8d2f2-4cd0-4e5d-8a6d-ee7a9976ff51",
   "metadata": {},
   "outputs": [
    {
     "data": {
      "text/html": [
       "\n",
       "        <iframe\n",
       "            width=\"100%\"\n",
       "            height=\"600\"\n",
       "            src=\"http://localhost:58404/\"\n",
       "            frameborder=\"0\"\n",
       "            allowfullscreen\n",
       "            \n",
       "        ></iframe>\n",
       "        "
      ],
      "text/plain": [
       "<IPython.lib.display.IFrame at 0x1377ae2b0>"
      ]
     },
     "metadata": {},
     "output_type": "display_data"
    }
   ],
   "source": [
    "jupyter.show(server)"
   ]
  },
  {
   "cell_type": "code",
   "execution_count": null,
   "id": "24b4d4e8-5e9f-4d14-8d86-ae71c9e3a324",
   "metadata": {},
   "outputs": [],
   "source": []
  }
 ],
 "metadata": {
  "kernelspec": {
   "display_name": "Python 3 (ipykernel)",
   "language": "python",
   "name": "python3"
  },
  "language_info": {
   "codemirror_mode": {
    "name": "ipython",
    "version": 3
   },
   "file_extension": ".py",
   "mimetype": "text/x-python",
   "name": "python",
   "nbconvert_exporter": "python",
   "pygments_lexer": "ipython3",
   "version": "3.9.12"
  }
 },
 "nbformat": 4,
 "nbformat_minor": 5
}
